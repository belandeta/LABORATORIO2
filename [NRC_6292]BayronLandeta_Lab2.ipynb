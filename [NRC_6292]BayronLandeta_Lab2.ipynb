{
 "cells": [
  {
   "cell_type": "code",
   "execution_count": 11,
   "id": "d97ce242",
   "metadata": {},
   "outputs": [
    {
     "name": "stdout",
     "output_type": "stream",
     "text": [
      "Laboratorio 2 Árboles de decisión\n",
      "Nombre: Bayron Landeta\n",
      "ID: LOO376549\n"
     ]
    }
   ],
   "source": [
    "def nombre():\n",
    "    '''Laboratorio 2 Árboles de decisión\n",
    "Nombre: Bayron Landeta\n",
    "ID: LOO376549'''\n",
    "    \n",
    "print(nombre.__doc__)"
   ]
  },
  {
   "cell_type": "code",
   "execution_count": 12,
   "id": "e4100fc5",
   "metadata": {},
   "outputs": [
    {
     "name": "stdout",
     "output_type": "stream",
     "text": [
      "Realizamos la importación de las librerías necesarias para el laboratorio de SVM\n"
     ]
    }
   ],
   "source": [
    "def importacion():\n",
    "    '''Realizamos la importación de las librerías necesarias para el laboratorio de SVM'''\n",
    "\n",
    "import seaborn as sn\n",
    "import pylab as pl\n",
    "import pandas as pd\n",
    "import pydotplus\n",
    "\n",
    "from sklearn.tree import DecisionTreeClassifier\n",
    "from sklearn.model_selection import train_test_split\n",
    "from sklearn import metrics\n",
    "from sklearn.metrics import confusion_matrix\n",
    "from sklearn.datasets import load_iris\n",
    "from sklearn.tree import DecisionTreeClassifier\n",
    "from sklearn.tree import export_text\n",
    "from sklearn.tree import export_graphviz\n",
    "from six import StringIO \n",
    "from IPython.display import Image  \n",
    "\n",
    "print(importacion.__doc__)"
   ]
  },
  {
   "cell_type": "code",
   "execution_count": null,
   "id": "45ab6965",
   "metadata": {},
   "outputs": [],
   "source": [
    "\"\"\"Carga el dataset\"\"\"\n",
    "pima = pd.read_csv(\"diabetes.csv\")\n",
    "pima.head()"
   ]
  }
 ],
 "metadata": {
  "kernelspec": {
   "display_name": "Python 3 (ipykernel)",
   "language": "python",
   "name": "python3"
  },
  "language_info": {
   "codemirror_mode": {
    "name": "ipython",
    "version": 3
   },
   "file_extension": ".py",
   "mimetype": "text/x-python",
   "name": "python",
   "nbconvert_exporter": "python",
   "pygments_lexer": "ipython3",
   "version": "3.9.12"
  }
 },
 "nbformat": 4,
 "nbformat_minor": 5
}
