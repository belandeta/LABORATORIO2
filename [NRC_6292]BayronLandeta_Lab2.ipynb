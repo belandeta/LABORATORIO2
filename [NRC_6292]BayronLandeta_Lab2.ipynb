{
 "cells": [
  {
   "cell_type": "code",
   "execution_count": 1,
   "id": "d97ce242",
   "metadata": {},
   "outputs": [
    {
     "name": "stdout",
     "output_type": "stream",
     "text": [
      "Laboratorio 2 Árboles de decisión\n",
      "Nombre: Bayron Landeta\n",
      "ID: LOO376549\n"
     ]
    }
   ],
   "source": [
    "def nombre():\n",
    "    '''Laboratorio 2 Árboles de decisión\n",
    "Nombre: Bayron Landeta\n",
    "ID: LOO376549'''\n",
    "    \n",
    "print(nombre.__doc__)"
   ]
  },
  {
   "cell_type": "code",
   "execution_count": null,
   "id": "558c78eb",
   "metadata": {},
   "outputs": [],
   "source": []
  }
 ],
 "metadata": {
  "kernelspec": {
   "display_name": "Python 3 (ipykernel)",
   "language": "python",
   "name": "python3"
  },
  "language_info": {
   "codemirror_mode": {
    "name": "ipython",
    "version": 3
   },
   "file_extension": ".py",
   "mimetype": "text/x-python",
   "name": "python",
   "nbconvert_exporter": "python",
   "pygments_lexer": "ipython3",
   "version": "3.9.12"
  }
 },
 "nbformat": 4,
 "nbformat_minor": 5
}
